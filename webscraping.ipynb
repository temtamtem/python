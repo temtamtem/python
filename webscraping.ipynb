{
 "cells": [
  {
   "cell_type": "code",
   "execution_count": 3,
   "id": "94d77af8-02db-4a42-9cab-e23c79d2b0c2",
   "metadata": {},
   "outputs": [],
   "source": [
    "import numpy as np\n",
    "import pandas as pd\n",
    "\n",
    "pass\n",
    "import warnings\n",
    "warnings.warn = warn\n",
    "warnings.filterwarnings('ignore')\n",
    "\n",
    "\n",
    "URL=\"https://web.archive.org/web/20230902185326/https://en.wikipedia.org/wiki/List_of_countries_by_GDP_%28nominal%29\"\n",
    "\n",
    "\n",
    "elo=pd.read_html(URL)\n",
    "tabela=elo[3]\n",
    "tabela\n",
    "\n",
    "tabela.columns = range(tabela.shape[1])\n",
    "tabela\n",
    "\n",
    "kury=tabela[[0,2]]\n",
    "kury\n",
    "#\n",
    "bury=kury.iloc[1:11,:]\n",
    "\n",
    "bury.columns=['Country','GDP (Million USD)']\n",
    "bury\n",
    "\n",
    "emo = pd.read_html(URL)\n",
    "tabela2 = emo[3]\n",
    "\n",
    "tabela2\n",
    "\n",
    "import requests\n",
    "url='https://ibm.com/'\n",
    "r=requests.get(url)\n",
    "r.status_code\n",
    "r.headers['date']\n",
    "dane={'v':'gUmagAluXpk','t':'120s'}\n",
    "uerelek=''\n",
    "\n"
   ]
  },
  {
   "cell_type": "code",
   "execution_count": null,
   "id": "b37e0bd4-8095-4c11-9025-c444481d71ff",
   "metadata": {},
   "outputs": [],
   "source": []
  }
 ],
 "metadata": {
  "kernelspec": {
   "display_name": "Python 3 (ipykernel)",
   "language": "python",
   "name": "python3"
  },
  "language_info": {
   "codemirror_mode": {
    "name": "ipython",
    "version": 3
   },
   "file_extension": ".py",
   "mimetype": "text/x-python",
   "name": "python",
   "nbconvert_exporter": "python",
   "pygments_lexer": "ipython3",
   "version": "3.10.12"
  }
 },
 "nbformat": 4,
 "nbformat_minor": 5
}
